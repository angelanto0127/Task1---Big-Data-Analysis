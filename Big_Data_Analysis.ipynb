{
  "nbformat": 4,
  "nbformat_minor": 0,
  "metadata": {
    "colab": {
      "provenance": [],
      "authorship_tag": "ABX9TyMdaoHAvqWa+Jv4bV+8YIrI",
      "include_colab_link": true
    },
    "kernelspec": {
      "name": "python3",
      "display_name": "Python 3"
    },
    "language_info": {
      "name": "python"
    }
  },
  "cells": [
    {
      "cell_type": "markdown",
      "metadata": {
        "id": "view-in-github",
        "colab_type": "text"
      },
      "source": [
        "<a href=\"https://colab.research.google.com/github/angelanto0127/Task1---Big-Data-Analysis/blob/main/Big_Data_Analysis.ipynb\" target=\"_parent\"><img src=\"https://colab.research.google.com/assets/colab-badge.svg\" alt=\"Open In Colab\"/></a>"
      ]
    },
    {
      "cell_type": "code",
      "execution_count": 1,
      "metadata": {
        "id": "sCj-r1OJRNFf"
      },
      "outputs": [],
      "source": [
        "!apt-get install openjdk-8-jdk-headless -qq > /dev/null\n",
        "!pip install -q pyspark\n",
        "import os\n",
        "os.environ[\"JAVA_HOME\"] = \"/usr/lib/jvm/java-8-openjdk-amd64\"\n"
      ]
    },
    {
      "cell_type": "code",
      "source": [
        "from pyspark.sql import SparkSession\n",
        "\n",
        "spark = SparkSession.builder \\\n",
        "    .appName(\"BigDataAnalysis\") \\\n",
        "    .getOrCreate()\n"
      ],
      "metadata": {
        "id": "aQWtWoY6Rnk_"
      },
      "execution_count": 2,
      "outputs": []
    },
    {
      "cell_type": "code",
      "source": [
        "from pyspark.sql.types import StructType, StructField, StringType, IntegerType\n",
        "\n",
        "# Download the file locally\n",
        "!wget -q https://raw.githubusercontent.com/datablist/sample-csv-files/main/files/people/people-100000.csv -O /tmp/people-100000.csv\n",
        "\n",
        "# Define schema\n",
        "schema = StructType([\n",
        "    StructField(\"Index\", IntegerType(), True),\n",
        "    StructField(\"User Id\", StringType(), True),\n",
        "    StructField(\"First Name\", StringType(), True),\n",
        "    StructField(\"Last Name\", StringType(), True),\n",
        "    StructField(\"Sex\", StringType(), True),\n",
        "    StructField(\"Email\", StringType(), True),\n",
        "    StructField(\"Phone\", StringType(), True),\n",
        "    StructField(\"Date of birth\", StringType(), True),\n",
        "    StructField(\"Job Title\", StringType(), True),\n",
        "    StructField(\"Date\", StringType(), True),\n",
        "    StructField(\"Country\", StringType(), True)\n",
        "])\n",
        "\n",
        "# Read the downloaded file with Spark using the defined schema\n",
        "df = spark.read.csv(\"/tmp/people-100000.csv\", header=True, schema=schema)\n",
        "df.show(5)"
      ],
      "metadata": {
        "colab": {
          "base_uri": "https://localhost:8080/"
        },
        "id": "AeZOWXiJR8QZ",
        "outputId": "d820636c-b16c-4878-d577-cdd42510c417"
      },
      "execution_count": 6,
      "outputs": [
        {
          "output_type": "stream",
          "name": "stdout",
          "text": [
            "+-----+-------+----------+---------+---+-----+-----+-------------+---------+----+-------+\n",
            "|Index|User Id|First Name|Last Name|Sex|Email|Phone|Date of birth|Job Title|Date|Country|\n",
            "+-----+-------+----------+---------+---+-----+-----+-------------+---------+----+-------+\n",
            "+-----+-------+----------+---------+---+-----+-----+-------------+---------+----+-------+\n",
            "\n"
          ]
        }
      ]
    },
    {
      "cell_type": "code",
      "source": [
        "# View schema\n",
        "df.printSchema()\n",
        "\n",
        "# Count rows\n",
        "print(\"Total Rows:\", df.count())\n",
        "\n",
        "# Basic stats\n",
        "df.describe().show()\n",
        "\n",
        "# Group by a column\n",
        "df.groupBy(\"Sex\").count().show()"
      ],
      "metadata": {
        "colab": {
          "base_uri": "https://localhost:8080/"
        },
        "id": "rFrR07rnSQ_H",
        "outputId": "0f4b678a-c60f-4a28-f42f-8a2101fc974a"
      },
      "execution_count": 7,
      "outputs": [
        {
          "output_type": "stream",
          "name": "stdout",
          "text": [
            "root\n",
            " |-- Index: integer (nullable = true)\n",
            " |-- User Id: string (nullable = true)\n",
            " |-- First Name: string (nullable = true)\n",
            " |-- Last Name: string (nullable = true)\n",
            " |-- Sex: string (nullable = true)\n",
            " |-- Email: string (nullable = true)\n",
            " |-- Phone: string (nullable = true)\n",
            " |-- Date of birth: string (nullable = true)\n",
            " |-- Job Title: string (nullable = true)\n",
            " |-- Date: string (nullable = true)\n",
            " |-- Country: string (nullable = true)\n",
            "\n",
            "Total Rows: 0\n",
            "+-------+-----+-------+----------+---------+----+-----+-----+-------------+---------+----+-------+\n",
            "|summary|Index|User Id|First Name|Last Name| Sex|Email|Phone|Date of birth|Job Title|Date|Country|\n",
            "+-------+-----+-------+----------+---------+----+-----+-----+-------------+---------+----+-------+\n",
            "|  count|    0|      0|         0|        0|   0|    0|    0|            0|        0|   0|      0|\n",
            "|   mean| NULL|   NULL|      NULL|     NULL|NULL| NULL| NULL|         NULL|     NULL|NULL|   NULL|\n",
            "| stddev| NULL|   NULL|      NULL|     NULL|NULL| NULL| NULL|         NULL|     NULL|NULL|   NULL|\n",
            "|    min| NULL|   NULL|      NULL|     NULL|NULL| NULL| NULL|         NULL|     NULL|NULL|   NULL|\n",
            "|    max| NULL|   NULL|      NULL|     NULL|NULL| NULL| NULL|         NULL|     NULL|NULL|   NULL|\n",
            "+-------+-----+-------+----------+---------+----+-----+-----+-------------+---------+----+-------+\n",
            "\n",
            "+---+-----+\n",
            "|Sex|count|\n",
            "+---+-----+\n",
            "+---+-----+\n",
            "\n"
          ]
        }
      ]
    },
    {
      "cell_type": "code",
      "metadata": {
        "colab": {
          "base_uri": "https://localhost:8080/"
        },
        "id": "1d772ea9",
        "outputId": "90f4c3c0-7f8a-4c38-fd50-8f2b7544fbf3"
      },
      "source": [
        "from pyspark.sql.functions import datediff, col, current_date, months_between\n",
        "\n",
        "# Convert 'Date of birth' to date type\n",
        "df = df.withColumn(\"Date of birth\", col(\"Date of birth\").cast(\"date\"))\n",
        "\n",
        "# Calculate age in years\n",
        "df = df.withColumn(\"age\", (months_between(current_date(), col(\"Date of birth\")) / 12).cast(\"integer\"))\n",
        "\n",
        "df.select(\"Date of birth\", \"age\").show(5)"
      ],
      "execution_count": 9,
      "outputs": [
        {
          "output_type": "stream",
          "name": "stdout",
          "text": [
            "+-------------+---+\n",
            "|Date of birth|age|\n",
            "+-------------+---+\n",
            "+-------------+---+\n",
            "\n"
          ]
        }
      ]
    },
    {
      "cell_type": "code",
      "metadata": {
        "colab": {
          "base_uri": "https://localhost:8080/"
        },
        "id": "72ac662f",
        "outputId": "56c897d9-6b47-4335-e040-e772dae18ce2"
      },
      "source": [
        "# Group by age and count\n",
        "age_counts = df.groupBy(\"age\").count()\n",
        "\n",
        "# Order by count in descending order and show the top 10\n",
        "age_counts.orderBy(\"count\", ascending=False).show(10)"
      ],
      "execution_count": 10,
      "outputs": [
        {
          "output_type": "stream",
          "name": "stdout",
          "text": [
            "+---+-----+\n",
            "|age|count|\n",
            "+---+-----+\n",
            "+---+-----+\n",
            "\n"
          ]
        }
      ]
    },
    {
      "cell_type": "code",
      "metadata": {
        "colab": {
          "base_uri": "https://localhost:8080/",
          "height": 457
        },
        "id": "3a97b741",
        "outputId": "e893de46-b364-4222-a743-caa7b3f2b861"
      },
      "source": [
        "import matplotlib.pyplot as plt\n",
        "\n",
        "# Convert the age column to a Pandas DataFrame for visualization\n",
        "# Note: This is suitable for smaller datasets. For very large datasets, consider sampling or using distributed plotting libraries.\n",
        "age_data = df.select(\"age\").toPandas()\n",
        "\n",
        "# Plot a histogram of the age distribution\n",
        "plt.figure(figsize=(10, 6))\n",
        "plt.hist(age_data['age'], bins=20, color='skyblue', edgecolor='black')\n",
        "plt.xlabel('Age')\n",
        "plt.ylabel('Frequency')\n",
        "plt.title('Distribution of Age')\n",
        "plt.grid(axis='y', alpha=0.75)\n",
        "plt.show()"
      ],
      "execution_count": 11,
      "outputs": [
        {
          "output_type": "display_data",
          "data": {
            "text/plain": [
              "<Figure size 1000x600 with 1 Axes>"
            ],
            "image/png": "[encoded data removed]"
          },
          "metadata": {}
        }
      ]
    }
  ]
}